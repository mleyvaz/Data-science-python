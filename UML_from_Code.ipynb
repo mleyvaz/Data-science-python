{
  "nbformat": 4,
  "nbformat_minor": 0,
  "metadata": {
    "colab": {
      "name": "UML from Code",
      "provenance": [],
      "authorship_tag": "ABX9TyNBocbqo211omVfHsjztr5M",
      "include_colab_link": true
    },
    "kernelspec": {
      "name": "python3",
      "display_name": "Python 3"
    },
    "language_info": {
      "name": "python"
    }
  },
  "cells": [
    {
      "cell_type": "markdown",
      "metadata": {
        "id": "view-in-github",
        "colab_type": "text"
      },
      "source": [
        "<a href=\"https://colab.research.google.com/github/mleyvaz/Data-science-python/blob/master/UML_from_Code.ipynb\" target=\"_parent\"><img src=\"https://colab.research.google.com/assets/colab-badge.svg\" alt=\"Open In Colab\"/></a>"
      ]
    },
    {
      "cell_type": "code",
      "execution_count": 2,
      "metadata": {
        "colab": {
          "base_uri": "https://localhost:8080/"
        },
        "id": "fKTdCzzkZ8oD",
        "outputId": "ccbae5e2-fd71-4521-83bf-5844520f2288"
      },
      "outputs": [
        {
          "output_type": "stream",
          "name": "stdout",
          "text": [
            "Collecting plantuml\n",
            "  Downloading plantuml-0.3.0-py3-none-any.whl (5.8 kB)\n",
            "Requirement already satisfied: httplib2 in /usr/local/lib/python3.7/dist-packages (from plantuml) (0.17.4)\n",
            "Installing collected packages: plantuml\n",
            "Successfully installed plantuml-0.3.0\n"
          ]
        }
      ],
      "source": [
        "pip install plantuml "
      ]
    },
    {
      "cell_type": "code",
      "source": [
        "f= open(\"/content/usecasediagram.txt\",\"w+\")\n",
        "f.write(f\"\"\":User: --> (Use)\n",
        "\"Main Admin\" as Admin\n",
        "\"Use the application\" as (Use)\n",
        "Admin --> (Admin the application)\"\"\")\n",
        "\n",
        "f.close()\n",
        "!python -m plantuml usecasediagram.txt"
      ],
      "metadata": {
        "colab": {
          "base_uri": "https://localhost:8080/"
        },
        "id": "Mn0oYRdmaG6K",
        "outputId": "f6704602-0505-4e2c-a0ba-5998110892ba"
      },
      "execution_count": 3,
      "outputs": [
        {
          "output_type": "stream",
          "name": "stdout",
          "text": [
            "[{'filename': 'usecasediagram.txt', 'gen_success': True}]\n"
          ]
        }
      ]
    },
    {
      "cell_type": "code",
      "source": [
        "f= open(\"/content/classdiagram.txt\",\"w+\")\n",
        "f.write(f\"\"\"Object <|-- ArrayList\n",
        "Object : equals()\n",
        "ArrayList : Object[] elementData\n",
        "ArrayList : size()\n",
        "@enduml\"\"\")\n",
        "f.close()\n",
        "!python -m plantuml classdiagram.txt"
      ],
      "metadata": {
        "colab": {
          "base_uri": "https://localhost:8080/"
        },
        "id": "AFg11TV5a7_K",
        "outputId": "2ba71dc8-a952-46e6-8703-3bfc0520d846"
      },
      "execution_count": 10,
      "outputs": [
        {
          "output_type": "stream",
          "name": "stdout",
          "text": [
            "[{'filename': 'classdiagram.txt', 'gen_success': True}]\n"
          ]
        }
      ]
    }
  ]
}